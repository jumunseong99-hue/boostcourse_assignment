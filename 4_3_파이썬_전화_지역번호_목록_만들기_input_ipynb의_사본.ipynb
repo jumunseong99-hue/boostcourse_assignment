{
  "cells": [
    {
      "cell_type": "markdown",
      "metadata": {
        "id": "view-in-github",
        "colab_type": "text"
      },
      "source": [
        "<a href=\"https://colab.research.google.com/github/jumunseong99-hue/boostcourse_assignment/blob/main/4_3_%ED%8C%8C%EC%9D%B4%EC%8D%AC_%EC%A0%84%ED%99%94_%EC%A7%80%EC%97%AD%EB%B2%88%ED%98%B8_%EB%AA%A9%EB%A1%9D_%EB%A7%8C%EB%93%A4%EA%B8%B0_input_ipynb%EC%9D%98_%EC%82%AC%EB%B3%B8.ipynb\" target=\"_parent\"><img src=\"https://colab.research.google.com/assets/colab-badge.svg\" alt=\"Open In Colab\"/></a>"
      ]
    },
    {
      "cell_type": "markdown",
      "metadata": {
        "id": "85ZTRPRnWAL5"
      },
      "source": [
        "## 딕셔너리의 결과가 아래와 같이 나오도록 아래의 문자열을 변경해 보세요.\n",
        "```\n",
        "{'경기': '031',\n",
        "'강원': '033',\n",
        "'충남': '041',\n",
        "'충북': '043',\n",
        "'경북': '054',\n",
        "'경남': '055',\n",
        "'전남': '061',\n",
        "'전북': '063'}\n",
        "```"
      ]
    },
    {
      "cell_type": "code",
      "execution_count": 4,
      "metadata": {
        "id": "PH8gfHVEWAL7",
        "colab": {
          "base_uri": "https://localhost:8080/",
          "height": 35
        },
        "outputId": "cf124235-d2f1-45f9-e349-df8261997ff3"
      },
      "outputs": [
        {
          "output_type": "execute_result",
          "data": {
            "text/plain": [
              "'>경기 031 >강원 033 >충남 041 >충북 043 >경북 054 >경남 055 >전남 061 >전북 063'"
            ],
            "application/vnd.google.colaboratory.intrinsic+json": {
              "type": "string"
            }
          },
          "metadata": {},
          "execution_count": 4
        }
      ],
      "source": [
        "# 아래의 문자를 딕셔너리 형태로 변경하기\n",
        "phone = \">경기 031 >강원 033 >충남 041 >충북 043 >경북 054 >경남 055 >전남 061 >전북 063\"\n",
        "# \">\" 문자를 기준으로 문자열을 나눕니다. => split() 으로 리스트로 변환\n",
        "# for문으로 리스트를 반복해서 phone_dict 에 채웁니다.\n",
        "phone"
      ]
    },
    {
      "cell_type": "code",
      "execution_count": 8,
      "metadata": {
        "id": "TW5iLi_3WAL8",
        "colab": {
          "base_uri": "https://localhost:8080/"
        },
        "outputId": "aedd219e-ab85-4c52-af15-88a5939b05ea"
      },
      "outputs": [
        {
          "output_type": "execute_result",
          "data": {
            "text/plain": [
              "['',\n",
              " '경기 031 ',\n",
              " '강원 033 ',\n",
              " '충남 041 ',\n",
              " '충북 043 ',\n",
              " '경북 054 ',\n",
              " '경남 055 ',\n",
              " '전남 061 ',\n",
              " '전북 063']"
            ]
          },
          "metadata": {},
          "execution_count": 8
        }
      ],
      "source": [
        "# split 을 통해 문자열을 나눕니다.\n",
        "# phone_list\n",
        "phone_list = phone.split(\">\")\n",
        "phone_list"
      ]
    },
    {
      "cell_type": "code",
      "execution_count": 11,
      "metadata": {
        "id": "Q1Lm2mhEWAL9",
        "colab": {
          "base_uri": "https://localhost:8080/",
          "height": 35
        },
        "outputId": "d2b81955-6bee-425c-e15c-d5f01f9708c9"
      },
      "outputs": [
        {
          "output_type": "execute_result",
          "data": {
            "text/plain": [
              "''"
            ],
            "application/vnd.google.colaboratory.intrinsic+json": {
              "type": "string"
            }
          },
          "metadata": {},
          "execution_count": 11
        }
      ],
      "source": [
        "phone_list[0\n",
        "           ]"
      ]
    },
    {
      "cell_type": "code",
      "execution_count": 12,
      "metadata": {
        "id": "WVbwaORNWAL9",
        "colab": {
          "base_uri": "https://localhost:8080/",
          "height": 35
        },
        "outputId": "27b849e9-5d44-4214-ecc1-512e20441587"
      },
      "outputs": [
        {
          "output_type": "execute_result",
          "data": {
            "text/plain": [
              "'경기 031 '"
            ],
            "application/vnd.google.colaboratory.intrinsic+json": {
              "type": "string"
            }
          },
          "metadata": {},
          "execution_count": 12
        }
      ],
      "source": [
        "phone_list[1]"
      ]
    },
    {
      "cell_type": "code",
      "execution_count": 17,
      "metadata": {
        "id": "XRlfKYVPWAL9",
        "colab": {
          "base_uri": "https://localhost:8080/"
        },
        "outputId": "bd7ce619-f5ca-4492-9a06-d9dd2e6ff627"
      },
      "outputs": [
        {
          "output_type": "stream",
          "name": "stdout",
          "text": [
            "경기 031\n",
            "강원 033\n",
            "충남 041\n",
            "충북 043\n",
            "경북 054\n",
            "경남 055\n",
            "전남 061\n",
            "전북 063\n"
          ]
        }
      ],
      "source": [
        "phone_dict = {}\n",
        "for p in phone_list :\n",
        "    p_split = p.split()\n",
        "    if len(p_split) > 0:\n",
        "        key = p_split[0]\n",
        "        val = p_split[1]\n",
        "        phone_dict[key] = val\n",
        "        print(key, val)"
      ]
    },
    {
      "cell_type": "code",
      "source": [
        "phone_dict[\"강원\"]"
      ],
      "metadata": {
        "colab": {
          "base_uri": "https://localhost:8080/",
          "height": 35
        },
        "id": "qY_Lv4PrYK86",
        "outputId": "9ab2254d-09ab-40ed-c81a-cb0409b7ce89"
      },
      "execution_count": 18,
      "outputs": [
        {
          "output_type": "execute_result",
          "data": {
            "text/plain": [
              "'033'"
            ],
            "application/vnd.google.colaboratory.intrinsic+json": {
              "type": "string"
            }
          },
          "metadata": {},
          "execution_count": 18
        }
      ]
    }
  ],
  "metadata": {
    "colab": {
      "collapsed_sections": [
        "thxfIvC6u4Ga",
        "tMKs81M3sQ9e",
        "uQ0VMYAbu4Gi",
        "ZYBqz3-MsQ94",
        "-mqoFD_Bu4Gv",
        "x4H0bcnisQ-F",
        "Axqztu27sQ-N",
        "Cc2lnQWmsQ-U",
        "AAv0qz8gsQ-o",
        "uzFfT5GTu4Js"
      ],
      "provenance": [],
      "include_colab_link": true
    },
    "kernelspec": {
      "display_name": "Python 3",
      "language": "python",
      "name": "python3"
    },
    "language_info": {
      "codemirror_mode": {
        "name": "ipython",
        "version": 3
      },
      "file_extension": ".py",
      "mimetype": "text/x-python",
      "name": "python",
      "nbconvert_exporter": "python",
      "pygments_lexer": "ipython3",
      "version": "3.7.6"
    },
    "toc": {
      "base_numbering": 1,
      "nav_menu": {},
      "number_sections": true,
      "sideBar": true,
      "skip_h1_title": false,
      "title_cell": "Table of Contents",
      "title_sidebar": "Contents",
      "toc_cell": false,
      "toc_position": {},
      "toc_section_display": true,
      "toc_window_display": false
    },
    "varInspector": {
      "cols": {
        "lenName": 16,
        "lenType": 16,
        "lenVar": 40
      },
      "kernels_config": {
        "python": {
          "delete_cmd_postfix": "",
          "delete_cmd_prefix": "del ",
          "library": "var_list.py",
          "varRefreshCmd": "print(var_dic_list())"
        },
        "r": {
          "delete_cmd_postfix": ") ",
          "delete_cmd_prefix": "rm(",
          "library": "var_list.r",
          "varRefreshCmd": "cat(var_dic_list()) "
        }
      },
      "types_to_exclude": [
        "module",
        "function",
        "builtin_function_or_method",
        "instance",
        "_Feature"
      ],
      "window_display": false
    }
  },
  "nbformat": 4,
  "nbformat_minor": 0
}