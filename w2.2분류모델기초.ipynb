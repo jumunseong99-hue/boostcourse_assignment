{
  "cells": [
    {
      "cell_type": "markdown",
      "metadata": {
        "id": "view-in-github",
        "colab_type": "text"
      },
      "source": [
        "<a href=\"https://colab.research.google.com/github/jumunseong99-hue/boostcourse_assignment/blob/main/w2.2%EB%B6%84%EB%A5%98%EB%AA%A8%EB%8D%B8%EA%B8%B0%EC%B4%88.ipynb\" target=\"_parent\"><img src=\"https://colab.research.google.com/assets/colab-badge.svg\" alt=\"Open In Colab\"/></a>"
      ]
    },
    {
      "cell_type": "markdown",
      "metadata": {
        "id": "KKY6_qQ65WO6"
      },
      "source": [
        "[![Open In Colab](https://colab.research.google.com/assets/colab-badge.svg)](https://colab.research.google.com/github/corazzon/boostcourse-ds-511/blob/master/pima-classification-baseline-01.ipynb)\n",
        "\n",
        "\n",
        "* 강좌 보기 : https://www.boostcourse.org/ds214/\n",
        "\n",
        "<img src=\"https://upload.wikimedia.org/wikipedia/commons/6/6f/Pima.jpg\" width=200>\n",
        "\n",
        "* [Pima people - Wikipedia](https://en.wikipedia.org/wiki/Pima_people)\n",
        "\n",
        "## 데이터셋 출처\n",
        "* [Pima Indians Diabetes Database | Kaggle](https://www.kaggle.com/uciml/pima-indians-diabetes-database)\n",
        "* https://scikit-learn.org/stable/modules/generated/sklearn.datasets.load_diabetes.html\n",
        "\n",
        "\n",
        "### 데이터 구성\n",
        "\n",
        "* Pregnancies : 임신 횟수\n",
        "* Glucose : 2시간 동안의 경구 포도당 내성 검사에서 혈장 포도당 농도\n",
        "* BloodPressure : 이완기 혈압 (mm Hg)\n",
        "* SkinThickness : 삼두근 피부 주름 두께 (mm), 체지방을 추정하는데 사용되는 값\n",
        "* Insulin : 2시간 혈청 인슐린 (mu U / ml)\n",
        "* BMI : 체질량 지수 (체중kg / 키(m)^2)\n",
        "* DiabetesPedigreeFunction : 당뇨병 혈통 기능\n",
        "* Age : 나이\n",
        "* Outcome : 768개 중에 268개의 결과 클래스 변수(0 또는 1)는 1이고 나머지는 0입니다.\n",
        "\n",
        "\n",
        "## 필요한 라이브러리 로드"
      ]
    },
    {
      "cell_type": "code",
      "execution_count": null,
      "metadata": {
        "id": "nn4J8KjR5WPB"
      },
      "outputs": [],
      "source": [
        "# 데이터 분석을 위한 pandas, 수치계산을 위한 numpy\n",
        "# 시각화를 위한 seaborn, matplotlib.pyplot 을 로드합니다.\n",
        "\n",
        "import pandas as pd\n",
        "import numpy as np\n",
        "import seaborn as sns\n",
        "import matplotlib.pyplot as plt\n"
      ]
    },
    {
      "cell_type": "code",
      "source": [
        "# 1. 필요한 라이브러리 설치 및 임포트\n",
        "!pip install kagglehub -q\n",
        "import kagglehub\n",
        "import pandas as pd\n",
        "import os # 파일 경로를 다루기 위한 라이브러리\n",
        "\n",
        "# 2. 데이터셋 다운로드 (이전과 동일)\n",
        "# path 변수에는 파일이 '저장된 폴더 경로'가 담깁니다.\n",
        "path = kagglehub.dataset_download(\"uciml/pima-indians-diabetes-database\")\n",
        "\n",
        "print(\"다운로드된 폴더 경로:\", path)\n",
        "\n",
        "# 3. 전체 파일 경로 만들기\n",
        "# 다운로드된 폴더(path) 안에 있는 'diabetes.csv' 파일의 전체 경로를 만듭니다.\n",
        "file_path = os.path.join(path, \"diabetes.csv\")\n",
        "\n",
        "print(\"CSV 파일의 전체 경로:\", file_path)\n",
        "\n",
        "# 4. 데이터 로드 및 확인 (수정된 부분)\n",
        "# 이제 완성된 전체 파일 경로(file_path)를 사용해 CSV를 읽습니다.\n",
        "df = pd.read_csv(file_path)\n",
        "\n",
        "# 데이터가 잘 로드되었는지 확인합니다.\n",
        "print(df.shape)\n",
        "df.head()"
      ],
      "metadata": {
        "id": "D0Yraszv8hZq"
      },
      "execution_count": null,
      "outputs": []
    },
    {
      "cell_type": "markdown",
      "metadata": {
        "id": "Wz4Q5-WK5WPD"
      },
      "source": [
        "## 데이터셋 로드"
      ]
    },
    {
      "cell_type": "markdown",
      "source": [],
      "metadata": {
        "id": "PwjOA1268g0a"
      }
    },
    {
      "cell_type": "markdown",
      "metadata": {
        "id": "JONwKqDt5WPF"
      },
      "source": [
        "## 학습, 예측 데이터셋 나누기"
      ]
    },
    {
      "cell_type": "code",
      "execution_count": null,
      "metadata": {
        "id": "LtkB-Rqm5WPF"
      },
      "outputs": [],
      "source": [
        "# 8:2 의 비율로 구하기 위해 전체 데이터의 행에서 80% 위치에 해당되는 값을 구해서 split_count 라는 변수에 담습니다.\n",
        "split_count = int(df.shape[0] * 0.8)\n",
        "split_count"
      ]
    },
    {
      "cell_type": "code",
      "execution_count": null,
      "metadata": {
        "id": "2XKR4z1Q5WPF"
      },
      "outputs": [],
      "source": [
        "# train, test로 슬라이싱을 통해 데이터를 나눕니다.\n",
        "train = df[:split_count].copy()\n",
        "train.shape"
      ]
    },
    {
      "cell_type": "code",
      "execution_count": null,
      "metadata": {
        "id": "nO6eHp175WPG"
      },
      "outputs": [],
      "source": [
        "test = df[split_count:].copy()\n",
        "test.shape"
      ]
    },
    {
      "cell_type": "markdown",
      "metadata": {
        "id": "MRjNen695WPG"
      },
      "source": [
        "## 학습, 예측에 사용할 컬럼"
      ]
    },
    {
      "cell_type": "code",
      "execution_count": null,
      "metadata": {
        "id": "X6SZ8u7r5WPG"
      },
      "outputs": [],
      "source": [
        "# feature_names 라는 변수에 학습과 예측에 사용할 컬럼명을 가져옵니다.\n",
        "feature_names = train.columns[:-1].tolist()\n",
        "feature_names"
      ]
    },
    {
      "cell_type": "markdown",
      "metadata": {
        "id": "1mmkVGM95WPH"
      },
      "source": [
        "## 정답값이자 예측해야 될 값"
      ]
    },
    {
      "cell_type": "code",
      "execution_count": null,
      "metadata": {
        "id": "qop58vSd5WPH"
      },
      "outputs": [],
      "source": [
        "# label_name 이라는 변수에 예측할 컬럼의 이름을 담습니다.\n",
        "\n",
        "label_name = train.columns[-1]\n",
        "label_name"
      ]
    },
    {
      "cell_type": "markdown",
      "metadata": {
        "id": "Sk5-fbgJ5WPH"
      },
      "source": [
        "## 학습, 예측 데이터셋 만들기"
      ]
    },
    {
      "cell_type": "code",
      "execution_count": null,
      "metadata": {
        "id": "NR0YnZic5WPH"
      },
      "outputs": [],
      "source": [
        "# 학습 세트 만들기 예) 시험의 기출문제\n",
        "\n",
        "X_train = train[feature_names]\n",
        "print(X_train.shape)\n",
        "X_train.head()"
      ]
    },
    {
      "cell_type": "code",
      "execution_count": null,
      "metadata": {
        "id": "OP-CNrtw5WPI"
      },
      "outputs": [],
      "source": [
        "# 정답 값을 만들어 줍니다. 예) 기출문제의 정답\n",
        "y_train = train[label_name]\n",
        "print(y_train.shape)\n",
        "y_train.head()"
      ]
    },
    {
      "cell_type": "code",
      "execution_count": null,
      "metadata": {
        "id": "5YHjzjDm5WPI"
      },
      "outputs": [],
      "source": [
        "# 예측에 사용할 데이터세트를 만듭니다. 예) 실전 시험 문제\n",
        "\n",
        "X_test = test[feature_names]\n",
        "print(X_test.shape)\n",
        "X_test.head()"
      ]
    },
    {
      "cell_type": "code",
      "execution_count": null,
      "metadata": {
        "id": "RPfhM2iP5WPI"
      },
      "outputs": [],
      "source": [
        "# 예측의 정답값 예) 실전 시험 문제의 정답\n",
        "y_test = test[label_name]\n",
        "\n",
        "print(y_test.shape)\n",
        "y_test.head()"
      ]
    },
    {
      "cell_type": "markdown",
      "metadata": {
        "id": "idDnitPT5WPI"
      },
      "source": [
        "## 머신러닝 알고리즘 가져오기"
      ]
    },
    {
      "cell_type": "code",
      "execution_count": null,
      "metadata": {
        "id": "QBAgY7Lx5WPI"
      },
      "outputs": [],
      "source": [
        "from sklearn.tree import DecisionTreeClassifier\n",
        "\n",
        "model = DecisionTreeClassifier(random_state=42)\n",
        "model"
      ]
    },
    {
      "cell_type": "markdown",
      "metadata": {
        "id": "9f5C0tTr5WPI"
      },
      "source": [
        "## 학습(훈련)\n",
        "* 시험을 볼 때 기출문제(X_train)와 정답(y_train)을 보고 공부하는 과정과 유사합니다."
      ]
    },
    {
      "cell_type": "code",
      "execution_count": null,
      "metadata": {
        "scrolled": false,
        "id": "CnZnXsN-5WPJ"
      },
      "outputs": [],
      "source": [
        "model.fit(X_train, y_train)"
      ]
    },
    {
      "cell_type": "markdown",
      "metadata": {
        "id": "pUSZLdo_5WPJ"
      },
      "source": [
        "## 예측\n",
        "* 실전 시험문제(X_test)라고 보면 됩니다. 우리가 정답을 직접 예측합니다."
      ]
    },
    {
      "cell_type": "code",
      "execution_count": null,
      "metadata": {
        "id": "3CTuxcgF5WPJ"
      },
      "outputs": [],
      "source": [
        "y_predict = model.predict(X_test)\n",
        "y_predict[:5]"
      ]
    },
    {
      "cell_type": "markdown",
      "metadata": {
        "id": "sJbi9-t95WPJ"
      },
      "source": [
        "## 트리 알고리즘 분석하기\n",
        "* 의사결정나무를 시각화 합니다."
      ]
    },
    {
      "cell_type": "code",
      "execution_count": null,
      "metadata": {
        "id": "V8Px5UL85WPJ"
      },
      "outputs": [],
      "source": [
        "from sklearn.tree import plot_tree\n",
        "\n",
        "plt.figure(figsize=(20, 20))\n",
        "tree = plot_tree(model,\n",
        "                 feature_names=feature_names,\n",
        "                 filled=True,\n",
        "                 fontsize=10)"
      ]
    },
    {
      "cell_type": "code",
      "execution_count": null,
      "metadata": {
        "id": "c2POoW015WPJ"
      },
      "outputs": [],
      "source": [
        "# graphviz 를 통해 시각화 합니다.\n",
        "# graphviz 는 별도의 설치가 필요합니다.\n",
        "# graphviz 와 파이썬에서 graphviz 를 사용할 수 있게 해주는 도구 2가지를 설치해 주셔야 합니다.\n",
        "# import graphviz\n",
        "# from sklearn.tree import export_graphviz\n",
        "\n",
        "# dot_tree = export_graphviz(model,\n",
        "#                            feature_names = feature_names,\n",
        "#                            filled=True)\n",
        "# graphviz.Source(dot_tree)"
      ]
    },
    {
      "cell_type": "code",
      "execution_count": null,
      "metadata": {
        "id": "4qR6nsMh5WPJ"
      },
      "outputs": [],
      "source": [
        "# 피처의 중요도를 추출하기\n",
        "\n",
        "model.feature_importances_"
      ]
    },
    {
      "cell_type": "code",
      "execution_count": null,
      "metadata": {
        "id": "swC1Edel5WPJ"
      },
      "outputs": [],
      "source": [
        "# 피처의 중요도 시각화 하기\n",
        "\n",
        "sns.barplot(x=model.feature_importances_, y=feature_names)"
      ]
    },
    {
      "cell_type": "markdown",
      "metadata": {
        "id": "_iYaFFpd5WPK"
      },
      "source": [
        "## 정확도(Accuracy) 측정하기"
      ]
    },
    {
      "cell_type": "code",
      "execution_count": null,
      "metadata": {
        "id": "HPYmKfLp5WPK"
      },
      "outputs": [],
      "source": [
        "# 실제값 - 예측값을 빼주면 같은 값은 0으로 나오게 됩니다.\n",
        "# 여기에서 절대값을 씌운 값이 1인 값이 다르게 예측한 값이 됩니다.\n",
        "\n",
        "diff_count = abs(y_test - y_predict).sum()\n",
        "diff_count"
      ]
    },
    {
      "cell_type": "code",
      "execution_count": null,
      "metadata": {
        "id": "h5py3rqP5WPK"
      },
      "outputs": [],
      "source": [
        "# 예측의 정확도를 구합니다. 100점 만점 중에 몇 점을 맞았는지 구한다고 보면 됩니다.\n",
        "\n",
        "(len(y_test) - diff_count) / len(y_test) * 100"
      ]
    },
    {
      "cell_type": "code",
      "execution_count": null,
      "metadata": {
        "id": "0PDnEyXd5WPK"
      },
      "outputs": [],
      "source": [
        "# 위에서 처럼 직접 구할 수도 있지만 미리 구현된 알고리즘을 가져와 사용합니다.\n",
        "\n",
        "from sklearn.metrics import accuracy_score\n",
        "\n",
        "accuracy_score(y_test, y_predict) * 100"
      ]
    },
    {
      "cell_type": "code",
      "execution_count": null,
      "metadata": {
        "scrolled": true,
        "id": "wbxdYPKP5WPK"
      },
      "outputs": [],
      "source": [
        "# model 의 score 로 점수를 계산합니다.\n",
        "model.score(X_test, y_test) * 100"
      ]
    },
    {
      "cell_type": "code",
      "execution_count": null,
      "metadata": {
        "id": "ppGFxU4T5WPK"
      },
      "outputs": [],
      "source": []
    }
  ],
  "metadata": {
    "kernelspec": {
      "display_name": "Python 3 (ipykernel)",
      "language": "python",
      "name": "python3"
    },
    "language_info": {
      "codemirror_mode": {
        "name": "ipython",
        "version": 3
      },
      "file_extension": ".py",
      "mimetype": "text/x-python",
      "name": "python",
      "nbconvert_exporter": "python",
      "pygments_lexer": "ipython3",
      "version": "3.11.4"
    },
    "toc": {
      "base_numbering": 1,
      "nav_menu": {},
      "number_sections": true,
      "sideBar": true,
      "skip_h1_title": false,
      "title_cell": "Table of Contents",
      "title_sidebar": "Contents",
      "toc_cell": false,
      "toc_position": {},
      "toc_section_display": true,
      "toc_window_display": false
    },
    "varInspector": {
      "cols": {
        "lenName": 16,
        "lenType": 16,
        "lenVar": 40
      },
      "kernels_config": {
        "python": {
          "delete_cmd_postfix": "",
          "delete_cmd_prefix": "del ",
          "library": "var_list.py",
          "varRefreshCmd": "print(var_dic_list())"
        },
        "r": {
          "delete_cmd_postfix": ") ",
          "delete_cmd_prefix": "rm(",
          "library": "var_list.r",
          "varRefreshCmd": "cat(var_dic_list()) "
        }
      },
      "types_to_exclude": [
        "module",
        "function",
        "builtin_function_or_method",
        "instance",
        "_Feature"
      ],
      "window_display": false
    },
    "colab": {
      "provenance": [],
      "include_colab_link": true
    }
  },
  "nbformat": 4,
  "nbformat_minor": 0
}